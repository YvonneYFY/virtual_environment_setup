{
 "cells": [
  {
   "cell_type": "markdown",
   "id": "2e3b0a6c-513e-4c4c-af3d-b1368d41fa7c",
   "metadata": {},
   "source": [
    "# Course Environment Setup (LING-ENV)\n",
    "\n",
    "You’ll create a consistent Python environment so every notebook runs the same on everyone’s machine.  \n",
    "\n",
    "## Conda path\n",
    "\n",
    "### 1) Install\n",
    "- **Windows & Intel Mac:** Install Miniconda or Anaconda.\n",
    "- After install, open a new Terminal/PowerShell. If `conda` isn’t found, run `conda init` (e.g., `conda init zsh`) and restart the terminal.\n",
    "\n",
    "### 2) Create and activate the environment\n",
    "```bash\n",
    "conda env create -f environment.yml\n",
    "conda activate ling-env\n",
    "```\n",
    "\n",
    "### 3) Download language resources\n",
    "```bash\n",
    "python -m spacy download en_core_web_sm\n",
    "python - <<'PY'\n",
    "import nltk; nltk.download('punkt'); nltk.download('stopwords')\n",
    "PY\n",
    "```\n",
    "\n",
    "### 4) Register the Jupyter kernel\n",
    "```bash\n",
    "python -m ipykernel install --user --name ling-env --display-name \"Python (LING-ENV)\"\n",
    "jupyter lab\n",
    "```\n",
    "\n",
    "In each notebook, pick Kernel → Select Kernel → Python (LING-ENV).\n",
    "![change_kernal](img/change_kernal_1.png)\n"
   ]
  },
  {
   "cell_type": "markdown",
   "id": "7cf7aee1-1339-460b-88c9-be441f422ffa",
   "metadata": {},
   "source": [
    "### 5) Quick pre-flight cell\n",
    "Run the following code when you are in LING-ENV."
   ]
  },
  {
   "cell_type": "code",
   "execution_count": 1,
   "id": "7ab8cb77-9547-4c8e-8d89-042d99ec8a54",
   "metadata": {},
   "outputs": [
    {
     "name": "stdout",
     "output_type": "stream",
     "text": [
      "Python: 3.11.13\n",
      "Env: ling-env\n",
      "Kernel: /opt/anaconda3/envs/ling-env/bin/python\n",
      "numpy        1.26.4\n",
      "pandas       2.3.3\n",
      "sklearn      1.7.2\n",
      "matplotlib   3.10.6\n",
      "seaborn      0.13.2\n",
      "nltk         3.9.2\n",
      "spacy        3.8.7\n",
      "wordcloud    1.9.4\n",
      "tqdm         4.67.1\n",
      "regex        2.5.162\n",
      "ipykernel    6.30.1\n",
      "jupyterlab   4.4.9\n",
      "spaCy model: en_core_web_sm ✅\n",
      "NLTK data: punkt ✅\n",
      "NLTK data: stopwords ✅\n",
      "✅ Environment check passed.\n"
     ]
    }
   ],
   "source": [
    "import sys, os, importlib, spacy, nltk\n",
    "env = os.environ.get(\"CONDA_DEFAULT_ENV\") or os.path.basename(sys.prefix)\n",
    "print(\"Python:\", sys.version.split()[0])\n",
    "print(\"Env:\", env)\n",
    "print(\"Kernel:\", sys.executable)\n",
    "\n",
    "for name in (\"numpy\",\"pandas\",\"sklearn\",\"matplotlib\",\"seaborn\",\n",
    "             \"nltk\",\"spacy\",\"wordcloud\",\"tqdm\",\"regex\",\"ipykernel\",\"jupyterlab\"):\n",
    "    try:\n",
    "        m = importlib.import_module(name)\n",
    "        print(f\"{name:12s}\", getattr(m, \"__version__\", \"?\"))\n",
    "    except Exception as e:\n",
    "        raise SystemExit(f\"❌ Missing or broken package '{name}': {e}\")\n",
    "\n",
    "try:\n",
    "    spacy.load(\"en_core_web_sm\"); print(\"spaCy model: en_core_web_sm ✅\")\n",
    "except Exception as e:\n",
    "    raise SystemExit(f\"❌ Missing spaCy model: {e}\")\n",
    "\n",
    "for pkg, where in [(\"punkt\",\"tokenizers/punkt\"), (\"stopwords\",\"corpora/stopwords\")]:\n",
    "    try: nltk.data.find(where); print(f\"NLTK data: {pkg} ✅\")\n",
    "    except LookupError: raise SystemExit(f\"❌ Missing NLTK data '{pkg}'. See setup instructions.\")\n",
    "print(\"✅ Environment check passed.\")\n"
   ]
  },
  {
   "cell_type": "code",
   "execution_count": 2,
   "id": "f70686aa-ff8c-4b75-a426-9f022c977bdc",
   "metadata": {},
   "outputs": [
    {
     "name": "stdout",
     "output_type": "stream",
     "text": [
      "\n",
      "[Compatibility]\n",
      "spaCy: 3.8.7 | NumPy: 1.26.4\n",
      "spaCy requires NumPy >=1.15.0\n",
      "Version rule satisfied: ✅\n",
      "Runtime smoke test: ✅ passed\n"
     ]
    }
   ],
   "source": [
    "# --- Compatibility check: spaCy ↔ NumPy ---\n",
    "import importlib.metadata as im\n",
    "from packaging.version import Version\n",
    "from packaging.requirements import Requirement\n",
    "\n",
    "np_ver = Version(__import__(\"numpy\").__version__)\n",
    "spacy_ver = Version(spacy.__version__)\n",
    "\n",
    "# 1) 读取 spaCy 对 numpy 的声明式依赖（PEP 621 元数据）\n",
    "numpy_spec = None\n",
    "try:\n",
    "    reqs = im.requires(\"spacy\") or []\n",
    "    for r in reqs:\n",
    "        req = Requirement(r)\n",
    "        if req.name.lower() == \"numpy\" and req.specifier:\n",
    "            numpy_spec = str(req.specifier)  # 例如 '>=1.19.0,<3.0.0'\n",
    "            break\n",
    "except Exception:\n",
    "    pass\n",
    "\n",
    "print(\"\\n[Compatibility]\")\n",
    "print(\"spaCy:\", spacy_ver, \"| NumPy:\", np_ver)\n",
    "if numpy_spec:\n",
    "    print(\"spaCy requires NumPy\", numpy_spec)\n",
    "    # 用 packaging 检查当前 numpy 是否满足约束\n",
    "    from packaging.specifiers import SpecifierSet\n",
    "    ok = np_ver in SpecifierSet(numpy_spec)\n",
    "    print(\"Version rule satisfied:\", \"✅\" if ok else \"❌\")\n",
    "else:\n",
    "    print(\"Could not read spaCy's declared NumPy requirement (metadata missing).\")\n",
    "\n",
    "# 2) 运行时小烟囱测试（np<->spaCy 往返）\n",
    "try:\n",
    "    nlp = spacy.load(\"en_core_web_sm\")\n",
    "    doc = nlp(\"NumPy and spaCy should cooperate nicely.\")\n",
    "    # 把 token 长度向量化到 NumPy，再做一次简单变换\n",
    "    import numpy as np\n",
    "    lens = np.array([len(t.text) for t in doc], dtype=np.int32)\n",
    "    assert lens.ndim == 1 and lens.size == len(doc)\n",
    "    # 构造一个假“特征矩阵”，做点简单算术（确保二者 ABI/类型协作正常）\n",
    "    feats = np.vstack([lens, lens**2]).T.astype(np.float64)\n",
    "    _ = feats @ np.array([[0.1],[0.01]])  # 线性组合\n",
    "    print(\"Runtime smoke test:\", \"✅ passed\")\n",
    "except Exception as e:\n",
    "    print(\"Runtime smoke test: ❌ failed ->\", type(e).__name__, e)\n"
   ]
  }
 ],
 "metadata": {
  "kernelspec": {
   "display_name": "Python (LING-ENV)",
   "language": "python",
   "name": "ling-env"
  },
  "language_info": {
   "codemirror_mode": {
    "name": "ipython",
    "version": 3
   },
   "file_extension": ".py",
   "mimetype": "text/x-python",
   "name": "python",
   "nbconvert_exporter": "python",
   "pygments_lexer": "ipython3",
   "version": "3.11.13"
  }
 },
 "nbformat": 4,
 "nbformat_minor": 5
}
