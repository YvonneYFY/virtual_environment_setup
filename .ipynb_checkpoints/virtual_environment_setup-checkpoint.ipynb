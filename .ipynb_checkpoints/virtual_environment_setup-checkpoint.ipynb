{
 "cells": [
  {
   "cell_type": "markdown",
   "id": "2e3b0a6c-513e-4c4c-af3d-b1368d41fa7c",
   "metadata": {},
   "source": [
    "# Course Environment Setup (LING-ENV)\n",
    "\n",
    "You’ll create a consistent Python environment so every notebook runs the same on everyone’s machine.  \n",
    "\n",
    "## Conda path\n",
    "\n",
    "### 1) Install\n",
    "- **Windows & Intel Mac:** Install Miniconda or Anaconda.\n",
    "- After install, open a new Terminal/PowerShell. If `conda` isn’t found, run `conda init` (e.g., `conda init zsh`) and restart the terminal.\n",
    "\n",
    "### 2) Create and activate the environment\n",
    "```bash\n",
    "conda env create -f environment.yml\n",
    "conda activate ling-env\n",
    "```\n",
    "\n",
    "### 3) Download language resources\n",
    "```bash\n",
    "python -m spacy download en_core_web_sm\n",
    "python - <<'PY'\n",
    "import nltk; nltk.download('punkt'); nltk.download('stopwords')\n",
    "PY\n",
    "```\n",
    "\n",
    "### 4) Register the Jupyter kernel\n",
    "```bash\n",
    "python -m ipykernel install --user --name ling-env --display-name \"Python (LING-ENV)\"\n",
    "jupyter lab\n",
    "```\n",
    "\n",
    "In each notebook, pick Kernel → Change Kernel… → Python (LING-ENV).\n",
    "![change_kernal](img/change_kernal_1.png)\n"
   ]
  },
  {
   "cell_type": "code",
   "execution_count": null,
   "id": "7ab8cb77-9547-4c8e-8d89-042d99ec8a54",
   "metadata": {},
   "outputs": [],
   "source": []
  }
 ],
 "metadata": {
  "kernelspec": {
   "display_name": "Python (LING-ENV)",
   "language": "python",
   "name": "ling-env"
  },
  "language_info": {
   "codemirror_mode": {
    "name": "ipython",
    "version": 3
   },
   "file_extension": ".py",
   "mimetype": "text/x-python",
   "name": "python",
   "nbconvert_exporter": "python",
   "pygments_lexer": "ipython3",
   "version": "3.11.13"
  }
 },
 "nbformat": 4,
 "nbformat_minor": 5
}
